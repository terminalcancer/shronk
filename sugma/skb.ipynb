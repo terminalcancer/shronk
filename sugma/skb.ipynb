{
 "cells": [
  {
   "cell_type": "code",
   "execution_count": 1,
   "id": "1c8195c7",
   "metadata": {},
   "outputs": [
    {
     "name": "stdout",
     "output_type": "stream",
     "text": [
      "['bow', 'hammer', 'sword', 'axe']\n",
      "i can chop\n",
      "your answer :axe\n",
      "['bow', 'hammer', 'sword']\n",
      "i can slash and cut\n",
      "your answer :sword\n",
      "['bow', 'hammer']\n",
      "i can smash\n",
      "your answer :hammer\n",
      "['bow']\n",
      "i can be used at a distance\n",
      "your answer :bow\n",
      "number of errors = 0\n",
      "chadposting\n"
     ]
    }
   ],
   "source": [
    "import random\n",
    "i = 3 \n",
    "numErrors = 0\n",
    "sword = \"sword\"\n",
    "axe = \"axe\"\n",
    "hammer = \"hammer\"\n",
    "weaponsList = [\"sword\",\"axe\",\"hammer\"]\n",
    "weaponsList.append(\"bow\")\n",
    "random.shuffle(weaponsList)\n",
    "while i >= 0:\n",
    " print(weaponsList)\n",
    " if weaponsList[i] == sword:\n",
    "  print(\"i can slash and cut\")\n",
    " elif weaponsList[i] == axe:\n",
    "  print(\"i can chop\")\n",
    " elif weaponsList[i] == hammer:\n",
    "  print(\"i can smash\")\n",
    " else:\n",
    "  print(\"i can be used at a distance\") \n",
    " answer = input(\"your answer :\")\n",
    " if answer == weaponsList[i]:\n",
    "    pass\n",
    " else:\n",
    "    numErrors += 1\n",
    " del weaponsList[i]\n",
    " i -=1\n",
    "else:\n",
    " print(\"number of errors =\", numErrors)\n",
    " print(\"chadposting\")\n",
    "\n",
    "\n"
   ]
  }
 ],
 "metadata": {
  "kernelspec": {
   "display_name": "Python 3",
   "language": "python",
   "name": "python3"
  },
  "language_info": {
   "codemirror_mode": {
    "name": "ipython",
    "version": 3
   },
   "file_extension": ".py",
   "mimetype": "text/x-python",
   "name": "python",
   "nbconvert_exporter": "python",
   "pygments_lexer": "ipython3",
   "version": "3.8.8"
  }
 },
 "nbformat": 4,
 "nbformat_minor": 5
}
